{
  "nbformat": 4,
  "nbformat_minor": 0,
  "metadata": {
    "colab": {
      "provenance": [],
      "authorship_tag": "ABX9TyNOlsbeyCWw5t/fd6jicczo",
      "include_colab_link": true
    },
    "kernelspec": {
      "name": "python3",
      "display_name": "Python 3"
    },
    "language_info": {
      "name": "python"
    }
  },
  "cells": [
    {
      "cell_type": "markdown",
      "metadata": {
        "id": "view-in-github",
        "colab_type": "text"
      },
      "source": [
        "<a href=\"https://colab.research.google.com/github/shahdelsayed-ss/asse-2-sec3/blob/main/ass_sec_4.ipynb\" target=\"_parent\"><img src=\"https://colab.research.google.com/assets/colab-badge.svg\" alt=\"Open In Colab\"/></a>"
      ]
    },
    {
      "cell_type": "code",
      "execution_count": 1,
      "metadata": {
        "id": "i3r9yYhJJDHG"
      },
      "outputs": [],
      "source": [
        "import numpy as np"
      ]
    },
    {
      "cell_type": "code",
      "source": [
        "ages=np.array([18,21,20,19,22,23,21,22,19])"
      ],
      "metadata": {
        "id": "ls6pYCFHJK2f"
      },
      "execution_count": 2,
      "outputs": []
    },
    {
      "cell_type": "code",
      "source": [
        "np.sum(ages)"
      ],
      "metadata": {
        "colab": {
          "base_uri": "https://localhost:8080/"
        },
        "id": "wql2sDJWJK40",
        "outputId": "b60d6e31-66e8-4e89-e047-40c01f8bf24b"
      },
      "execution_count": 3,
      "outputs": [
        {
          "output_type": "execute_result",
          "data": {
            "text/plain": [
              "np.int64(185)"
            ]
          },
          "metadata": {},
          "execution_count": 3
        }
      ]
    },
    {
      "cell_type": "code",
      "source": [
        "np.size(ages)"
      ],
      "metadata": {
        "colab": {
          "base_uri": "https://localhost:8080/"
        },
        "id": "gjGgdThvJK8O",
        "outputId": "76f11a5c-d078-4a11-8562-6dc501660a4a"
      },
      "execution_count": 5,
      "outputs": [
        {
          "output_type": "execute_result",
          "data": {
            "text/plain": [
              "9"
            ]
          },
          "metadata": {},
          "execution_count": 5
        }
      ]
    },
    {
      "cell_type": "code",
      "source": [
        "mean1=np.sum(ages)/np.size(ages)\n",
        "print(mean1)"
      ],
      "metadata": {
        "colab": {
          "base_uri": "https://localhost:8080/"
        },
        "id": "8WW6iT8BJK9_",
        "outputId": "5a7b5cd9-3f5a-40f6-b2d2-110b325db669"
      },
      "execution_count": 7,
      "outputs": [
        {
          "output_type": "stream",
          "name": "stdout",
          "text": [
            "20.555555555555557\n"
          ]
        }
      ]
    },
    {
      "cell_type": "code",
      "source": [
        "np.mean(ages)"
      ],
      "metadata": {
        "colab": {
          "base_uri": "https://localhost:8080/"
        },
        "id": "2EAL4w-8JLBg",
        "outputId": "65700334-a161-45ea-b035-c3bc44f254d1"
      },
      "execution_count": 8,
      "outputs": [
        {
          "output_type": "execute_result",
          "data": {
            "text/plain": [
              "np.float64(20.555555555555557)"
            ]
          },
          "metadata": {},
          "execution_count": 8
        }
      ]
    },
    {
      "cell_type": "code",
      "source": [
        "np.median(ages)"
      ],
      "metadata": {
        "colab": {
          "base_uri": "https://localhost:8080/"
        },
        "id": "sm2jT2h0JLEC",
        "outputId": "bfb58b06-ad09-4861-b043-e0505dc4b9ac"
      },
      "execution_count": 9,
      "outputs": [
        {
          "output_type": "execute_result",
          "data": {
            "text/plain": [
              "np.float64(21.0)"
            ]
          },
          "metadata": {},
          "execution_count": 9
        }
      ]
    },
    {
      "cell_type": "code",
      "source": [
        "np.random.randint(10, 50, size=15)"
      ],
      "metadata": {
        "colab": {
          "base_uri": "https://localhost:8080/"
        },
        "id": "IH9HdQUkJLG7",
        "outputId": "3f824f22-178f-48da-f2cf-c173eee49f57"
      },
      "execution_count": 12,
      "outputs": [
        {
          "output_type": "execute_result",
          "data": {
            "text/plain": [
              "array([13, 12, 18, 19, 24, 17, 37, 43, 46, 45, 29, 17, 36, 46, 34])"
            ]
          },
          "metadata": {},
          "execution_count": 12
        }
      ]
    },
    {
      "cell_type": "code",
      "source": [
        "np.sort(np.random.randint(10, 50, size=15))"
      ],
      "metadata": {
        "colab": {
          "base_uri": "https://localhost:8080/"
        },
        "id": "1yRxEmYbJLNZ",
        "outputId": "0649226c-d0ff-4a40-befc-8a08eb60d95f"
      },
      "execution_count": 13,
      "outputs": [
        {
          "output_type": "execute_result",
          "data": {
            "text/plain": [
              "array([11, 18, 22, 28, 32, 34, 36, 37, 40, 41, 45, 45, 46, 47, 49])"
            ]
          },
          "metadata": {},
          "execution_count": 13
        }
      ]
    },
    {
      "cell_type": "code",
      "source": [],
      "metadata": {
        "id": "FZeZsgnVJLQN"
      },
      "execution_count": null,
      "outputs": []
    },
    {
      "cell_type": "code",
      "source": [
        "np.median(np.sort(np.random.randint(10, 50, size=15)))"
      ],
      "metadata": {
        "colab": {
          "base_uri": "https://localhost:8080/"
        },
        "id": "oqZHgMkdJLSn",
        "outputId": "59b53aa7-a42d-4bd1-b667-22b8df9ffe40"
      },
      "execution_count": 14,
      "outputs": [
        {
          "output_type": "execute_result",
          "data": {
            "text/plain": [
              "np.float64(35.0)"
            ]
          },
          "metadata": {},
          "execution_count": 14
        }
      ]
    },
    {
      "cell_type": "code",
      "source": [
        "min=11\n",
        "max=49\n",
        "range=max-min\n",
        "print(range)"
      ],
      "metadata": {
        "colab": {
          "base_uri": "https://localhost:8080/"
        },
        "id": "fNQ7X93lJLVj",
        "outputId": "0dfc625c-81a0-460e-ed31-19eb54089aa6"
      },
      "execution_count": 16,
      "outputs": [
        {
          "output_type": "stream",
          "name": "stdout",
          "text": [
            "38\n"
          ]
        }
      ]
    },
    {
      "cell_type": "code",
      "source": [
        "min1=np.min(np.sort(np.random.randint(10, 50, size=15)))"
      ],
      "metadata": {
        "id": "WBsts2NDNF_b"
      },
      "execution_count": 20,
      "outputs": []
    },
    {
      "cell_type": "code",
      "source": [
        "max1=np.max(np.sort(np.random.randint(10, 50, size=15)))"
      ],
      "metadata": {
        "id": "JcAKwb58NGHh"
      },
      "execution_count": 21,
      "outputs": []
    },
    {
      "cell_type": "code",
      "source": [
        "range=max1-min1\n",
        "print(range)"
      ],
      "metadata": {
        "colab": {
          "base_uri": "https://localhost:8080/"
        },
        "id": "_-sFPD6INGLP",
        "outputId": "46c07639-46fe-4fb2-e3dd-97e99d479310"
      },
      "execution_count": 22,
      "outputs": [
        {
          "output_type": "stream",
          "name": "stdout",
          "text": [
            "38\n"
          ]
        }
      ]
    },
    {
      "cell_type": "code",
      "source": [
        "data=np.array([5,7,3,7,9,10,15,7])"
      ],
      "metadata": {
        "id": "6cuk3C91NGQP"
      },
      "execution_count": null,
      "outputs": []
    },
    {
      "cell_type": "code",
      "source": [
        "data=np.array([5,7,3,7,9,10,15,7])\n",
        "np.var(data)"
      ],
      "metadata": {
        "colab": {
          "base_uri": "https://localhost:8080/"
        },
        "id": "iq_7fYnoNGT3",
        "outputId": "513eec33-2920-4943-9c6f-0588dab511bf"
      },
      "execution_count": 24,
      "outputs": [
        {
          "output_type": "execute_result",
          "data": {
            "text/plain": [
              "np.float64(11.359375)"
            ]
          },
          "metadata": {},
          "execution_count": 24
        }
      ]
    },
    {
      "cell_type": "code",
      "source": [
        "np.std(data)"
      ],
      "metadata": {
        "colab": {
          "base_uri": "https://localhost:8080/"
        },
        "id": "b7H3PkKaNGXT",
        "outputId": "c60bc998-476f-4413-aeba-d23baf03c1ff"
      },
      "execution_count": 25,
      "outputs": [
        {
          "output_type": "execute_result",
          "data": {
            "text/plain": [
              "np.float64(3.370367190678191)"
            ]
          },
          "metadata": {},
          "execution_count": 25
        }
      ]
    },
    {
      "cell_type": "code",
      "source": [
        "data=np.array([5,7,3,7,9,10,15,7])"
      ],
      "metadata": {
        "id": "TqhOq9ugNGaM"
      },
      "execution_count": null,
      "outputs": []
    },
    {
      "cell_type": "code",
      "source": [
        "mean2=sum(data)/len(data)\n",
        "print(mean2)"
      ],
      "metadata": {
        "colab": {
          "base_uri": "https://localhost:8080/"
        },
        "id": "cHuU9_GdPxfC",
        "outputId": "a8c0778f-6b87-435e-f27e-9bae4a94c6be"
      },
      "execution_count": 27,
      "outputs": [
        {
          "output_type": "stream",
          "name": "stdout",
          "text": [
            "7.875\n"
          ]
        }
      ]
    },
    {
      "cell_type": "code",
      "source": [
        "variance=sum((data-mean2)**2)/len(data)\n",
        "print(variance)"
      ],
      "metadata": {
        "colab": {
          "base_uri": "https://localhost:8080/"
        },
        "id": "0u9DTCd4Pxrn",
        "outputId": "e744181f-e289-40e5-fbc5-726ca2d75c95"
      },
      "execution_count": 28,
      "outputs": [
        {
          "output_type": "stream",
          "name": "stdout",
          "text": [
            "11.359375\n"
          ]
        }
      ]
    },
    {
      "cell_type": "code",
      "source": [
        "stander=variance**0.5\n",
        "print(stander)"
      ],
      "metadata": {
        "colab": {
          "base_uri": "https://localhost:8080/"
        },
        "id": "BfiVWcXBPxvq",
        "outputId": "8a36c8b5-0c91-44de-c078-d294a5dcdd9c"
      },
      "execution_count": 29,
      "outputs": [
        {
          "output_type": "stream",
          "name": "stdout",
          "text": [
            "3.370367190678191\n"
          ]
        }
      ]
    },
    {
      "cell_type": "code",
      "source": [
        "q1=np.percentile(data,25)\n",
        "print(q1)\n",
        "q2=np.percentile(data,50)\n",
        "print(q2)\n",
        "q3=np.percentile(data,75)\n",
        "print(q3)"
      ],
      "metadata": {
        "colab": {
          "base_uri": "https://localhost:8080/"
        },
        "id": "Je8iuipbPx02",
        "outputId": "f5e9b76b-d9ed-43e6-d623-98d13a3e370e"
      },
      "execution_count": 32,
      "outputs": [
        {
          "output_type": "stream",
          "name": "stdout",
          "text": [
            "6.5\n",
            "7.0\n",
            "9.25\n"
          ]
        }
      ]
    },
    {
      "cell_type": "code",
      "source": [
        "iqr=q3-q1\n",
        "print(iqr)"
      ],
      "metadata": {
        "colab": {
          "base_uri": "https://localhost:8080/"
        },
        "id": "oUsq6FUPRx1Y",
        "outputId": "09246211-3722-41a3-97ee-0ebb6d47d8d8"
      },
      "execution_count": 33,
      "outputs": [
        {
          "output_type": "stream",
          "name": "stdout",
          "text": [
            "2.75\n"
          ]
        }
      ]
    },
    {
      "cell_type": "code",
      "source": [
        "z_scores=(data-np.mean(data))/np.std(data)\n",
        "print(z_scores)"
      ],
      "metadata": {
        "colab": {
          "base_uri": "https://localhost:8080/"
        },
        "id": "7lfIzO8VRx-Y",
        "outputId": "4a4276f2-4353-44f5-aaf4-d6afecfd038a"
      },
      "execution_count": 34,
      "outputs": [
        {
          "output_type": "stream",
          "name": "stdout",
          "text": [
            "[-0.85302278 -0.25961563 -1.44642994 -0.25961563  0.33379152  0.6304951\n",
            "  2.11401298 -0.25961563]\n"
          ]
        }
      ]
    },
    {
      "cell_type": "code",
      "source": [
        "list2=np.random.randint(1, 100, size=20)\n",
        "print(list2)"
      ],
      "metadata": {
        "colab": {
          "base_uri": "https://localhost:8080/"
        },
        "id": "ivBXVCP7S7_M",
        "outputId": "9c5a2267-00f2-4857-be75-95494ac88c78"
      },
      "execution_count": 37,
      "outputs": [
        {
          "output_type": "stream",
          "name": "stdout",
          "text": [
            "[22 31 61 89 98 42 48 60 30 58 74 53  6 22 34 71  2 18 62 58]\n"
          ]
        }
      ]
    },
    {
      "cell_type": "code",
      "source": [
        "size=len(list2)\n",
        "print(size)"
      ],
      "metadata": {
        "colab": {
          "base_uri": "https://localhost:8080/"
        },
        "id": "L2AjrNyFS8ZW",
        "outputId": "a9b2b276-0a80-4269-96d2-2bb7287c24c8"
      },
      "execution_count": 38,
      "outputs": [
        {
          "output_type": "stream",
          "name": "stdout",
          "text": [
            "20\n"
          ]
        }
      ]
    },
    {
      "cell_type": "code",
      "source": [
        "z=np.ones(size)/size\n",
        "print(z)"
      ],
      "metadata": {
        "colab": {
          "base_uri": "https://localhost:8080/"
        },
        "id": "1Vcf9DZ9UUBv",
        "outputId": "f3f2fee4-feb0-4b70-98f8-1d549d549b94"
      },
      "execution_count": 39,
      "outputs": [
        {
          "output_type": "stream",
          "name": "stdout",
          "text": [
            "[0.05 0.05 0.05 0.05 0.05 0.05 0.05 0.05 0.05 0.05 0.05 0.05 0.05 0.05\n",
            " 0.05 0.05 0.05 0.05 0.05 0.05]\n"
          ]
        }
      ]
    },
    {
      "cell_type": "code",
      "source": [
        "w=np.convolve(list2,z,'valid')\n",
        "print(w)"
      ],
      "metadata": {
        "colab": {
          "base_uri": "https://localhost:8080/"
        },
        "id": "ka9fbeXwUUK6",
        "outputId": "7d6f372b-a673-46ec-d7ba-ab09b1561602"
      },
      "execution_count": 40,
      "outputs": [
        {
          "output_type": "stream",
          "name": "stdout",
          "text": [
            "[46.95]\n"
          ]
        }
      ]
    },
    {
      "cell_type": "code",
      "source": [
        "list3=np.random.randint(1, 50, size=25)\n",
        "print(list3)"
      ],
      "metadata": {
        "colab": {
          "base_uri": "https://localhost:8080/"
        },
        "id": "7-A6Mzr2UUR-",
        "outputId": "bb11a66d-2f33-4156-997b-ada5d9eadf3d"
      },
      "execution_count": 41,
      "outputs": [
        {
          "output_type": "stream",
          "name": "stdout",
          "text": [
            "[11 15 20 26 37 39 49 35 22 48 14 10 10 39 13 33 35 15 10 30 23 31  8 22\n",
            " 34]\n"
          ]
        }
      ]
    },
    {
      "cell_type": "code",
      "source": [
        "list4=np.append(list3, [300,400])\n",
        "print(list4)"
      ],
      "metadata": {
        "colab": {
          "base_uri": "https://localhost:8080/"
        },
        "id": "ACClXTZ4XGIO",
        "outputId": "daf08efe-727a-4399-8c92-7a44ed5b0168"
      },
      "execution_count": 44,
      "outputs": [
        {
          "output_type": "stream",
          "name": "stdout",
          "text": [
            "[ 11  15  20  26  37  39  49  35  22  48  14  10  10  39  13  33  35  15\n",
            "  10  30  23  31   8  22  34 300 400]\n"
          ]
        }
      ]
    },
    {
      "cell_type": "code",
      "source": [
        "q1=np.percentile(list4,25)\n",
        "print(q1)\n",
        "q2=np.percentile(list4,50)\n",
        "print(q2)\n",
        "q3=np.percentile(list4,75)\n",
        "print(q3)"
      ],
      "metadata": {
        "colab": {
          "base_uri": "https://localhost:8080/"
        },
        "id": "EGLwnnLbXm0j",
        "outputId": "6bccfb68-a11f-4132-f338-531833411ce1"
      },
      "execution_count": 45,
      "outputs": [
        {
          "output_type": "stream",
          "name": "stdout",
          "text": [
            "14.5\n",
            "26.0\n",
            "36.0\n"
          ]
        }
      ]
    },
    {
      "cell_type": "code",
      "source": [
        "IQR=q3-q1\n",
        "print(IQR)"
      ],
      "metadata": {
        "colab": {
          "base_uri": "https://localhost:8080/"
        },
        "id": "9oHAK-LzXm8L",
        "outputId": "9fc5fb6b-c01f-4f8f-f1c7-26bdb5384fa6"
      },
      "execution_count": 46,
      "outputs": [
        {
          "output_type": "stream",
          "name": "stdout",
          "text": [
            "21.5\n"
          ]
        }
      ]
    }
  ]
}